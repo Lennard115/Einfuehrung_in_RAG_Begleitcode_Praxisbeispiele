{
 "cells": [
  {
   "cell_type": "code",
   "execution_count": 17,
   "id": "378a2b5d-e603-4cfc-82cc-559be143971e",
   "metadata": {},
   "outputs": [
    {
     "name": "stdout",
     "output_type": "stream",
     "text": [
      "Defaulting to user installation because normal site-packages is not writeable\n",
      "Requirement already satisfied: openai in c:\\users\\mail\\appdata\\roaming\\python\\python312\\site-packages (1.91.0)\n",
      "Requirement already satisfied: numpy in c:\\programdata\\anaconda3\\lib\\site-packages (1.26.4)\n",
      "Requirement already satisfied: anyio<5,>=3.5.0 in c:\\programdata\\anaconda3\\lib\\site-packages (from openai) (4.2.0)\n",
      "Requirement already satisfied: distro<2,>=1.7.0 in c:\\programdata\\anaconda3\\lib\\site-packages (from openai) (1.9.0)\n",
      "Requirement already satisfied: httpx<1,>=0.23.0 in c:\\programdata\\anaconda3\\lib\\site-packages (from openai) (0.27.0)\n",
      "Requirement already satisfied: jiter<1,>=0.4.0 in c:\\users\\mail\\appdata\\roaming\\python\\python312\\site-packages (from openai) (0.8.2)\n",
      "Requirement already satisfied: pydantic<3,>=1.9.0 in c:\\programdata\\anaconda3\\lib\\site-packages (from openai) (2.8.2)\n",
      "Requirement already satisfied: sniffio in c:\\programdata\\anaconda3\\lib\\site-packages (from openai) (1.3.0)\n",
      "Requirement already satisfied: tqdm>4 in c:\\programdata\\anaconda3\\lib\\site-packages (from openai) (4.66.5)\n",
      "Requirement already satisfied: typing-extensions<5,>=4.11 in c:\\programdata\\anaconda3\\lib\\site-packages (from openai) (4.11.0)\n",
      "Requirement already satisfied: idna>=2.8 in c:\\programdata\\anaconda3\\lib\\site-packages (from anyio<5,>=3.5.0->openai) (3.7)\n",
      "Requirement already satisfied: certifi in c:\\programdata\\anaconda3\\lib\\site-packages (from httpx<1,>=0.23.0->openai) (2024.8.30)\n",
      "Requirement already satisfied: httpcore==1.* in c:\\programdata\\anaconda3\\lib\\site-packages (from httpx<1,>=0.23.0->openai) (1.0.2)\n",
      "Requirement already satisfied: h11<0.15,>=0.13 in c:\\programdata\\anaconda3\\lib\\site-packages (from httpcore==1.*->httpx<1,>=0.23.0->openai) (0.14.0)\n",
      "Requirement already satisfied: annotated-types>=0.4.0 in c:\\programdata\\anaconda3\\lib\\site-packages (from pydantic<3,>=1.9.0->openai) (0.6.0)\n",
      "Requirement already satisfied: pydantic-core==2.20.1 in c:\\programdata\\anaconda3\\lib\\site-packages (from pydantic<3,>=1.9.0->openai) (2.20.1)\n",
      "Requirement already satisfied: colorama in c:\\programdata\\anaconda3\\lib\\site-packages (from tqdm>4->openai) (0.4.6)\n"
     ]
    }
   ],
   "source": [
    "!pip install openai numpy \n"
   ]
  },
  {
   "cell_type": "code",
   "execution_count": 4,
   "id": "c7dc723a-61a2-4011-8a2d-870993d0f618",
   "metadata": {},
   "outputs": [
    {
     "name": "stdout",
     "output_type": "stream",
     "text": [
      "Raw model output for chunk: «0.2»\n",
      "Raw model output for chunk: «0.8»\n",
      "Rerank-Ergebnis (Chat-Cross-Encoder):\n",
      "1. (Score=0.800) Sie eignet sich für Temperaturen bis -15 °C. Kritische Nähte sind verschweißt.\n",
      "2. (Score=0.200) Die X-100 Jacke ist wasserdicht, windabweisend und atmungsaktiv.\n"
     ]
    }
   ],
   "source": [
    "from openai import OpenAI\n",
    "import os\n",
    "\n",
    "client = OpenAI(api_key=\"Hier API Key einsetzen\")\n",
    "\n",
    "query = \"Wie warm ist die Jacke X-100?\"\n",
    "chunks = [\n",
    "    \"Die X-100 Jacke ist wasserdicht, windabweisend und atmungsaktiv.\",\n",
    "    \"Sie eignet sich für Temperaturen bis -15 °C. Kritische Nähte sind verschweißt.\"\n",
    "]\n",
    "\n",
    "def score_chunk(chunk_text: str) -> float:\n",
    "    messages = [\n",
    "        {\"role\": \"system\", \"content\":\n",
    "            \"Du bist ein Assistent, der ausschließlich einen numerischen Wert zwischen 0.0 und 1.0 zurückgibt. \"\n",
    "            \"Antworte NUR mit diesem Wert, ohne Einheit, Text oder Satzzeichen.\"},\n",
    "        {\"role\": \"user\", \"content\":\n",
    "            f\"Frage: {query}\\n\"\n",
    "            f\"Text:  {chunk_text}\\n\\n\"\n",
    "            \"Gib jetzt bitte nur die Relevanz-Zahl:\"}\n",
    "    ]\n",
    "    resp = client.chat.completions.create(\n",
    "        model=\"gpt-4o-mini\",\n",
    "        messages=messages,\n",
    "        temperature=0,\n",
    "        max_tokens=4\n",
    "    )\n",
    "    text = resp.choices[0].message.content.strip()\n",
    "    print(f\"Raw model output for chunk: «{text}»\")      # Debug\n",
    "    try:\n",
    "        return float(text)\n",
    "    except ValueError:\n",
    "        # Falls es trotzdem nicht parsebar ist, greift Regex\n",
    "        import re\n",
    "        m = re.search(r\"0\\.\\d+|1\\.0\", text)\n",
    "        return float(m.group(0)) if m else 0.0\n",
    "\n",
    "# 4) Alle Chunks bewerten\n",
    "scores = [score_chunk(c) for c in chunks]\n",
    "\n",
    "# 5) Sortieren und ausgeben\n",
    "ranked = sorted(zip(chunks, scores), key=lambda x: x[1], reverse=True)\n",
    "print(\"Rerank-Ergebnis (Chat-Cross-Encoder):\")\n",
    "for i, (text, score) in enumerate(ranked, 1):\n",
    "    print(f\"{i}. (Score={score:.3f}) {text}\")\n"
   ]
  },
  {
   "cell_type": "code",
   "execution_count": null,
   "id": "133a63b3-4fa4-4523-864d-d2dedb60cc03",
   "metadata": {},
   "outputs": [],
   "source": []
  }
 ],
 "metadata": {
  "kernelspec": {
   "display_name": "Python 3 (ipykernel)",
   "language": "python",
   "name": "python3"
  },
  "language_info": {
   "codemirror_mode": {
    "name": "ipython",
    "version": 3
   },
   "file_extension": ".py",
   "mimetype": "text/x-python",
   "name": "python",
   "nbconvert_exporter": "python",
   "pygments_lexer": "ipython3",
   "version": "3.12.7"
  }
 },
 "nbformat": 4,
 "nbformat_minor": 5
}
