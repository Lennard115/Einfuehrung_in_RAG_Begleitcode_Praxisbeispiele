{
 "cells": [
  {
   "cell_type": "code",
   "execution_count": 2,
   "id": "9bc06d84-4d4d-4c33-8b13-c07645a1d2b0",
   "metadata": {},
   "outputs": [
    {
     "name": "stdout",
     "output_type": "stream",
     "text": [
      "Frage: Wie warm ist die Jacke X-100?\n",
      "Embedding-Vektor (erste 10 Werte): [-0.009936986491084099, -0.015675246715545654, -0.014849496074020863, 0.0339537039399147, 0.006378565449267626, -0.011777427978813648, -0.02019587531685829, 0.014198693446815014, 0.010062947869300842, 0.009342166595160961] ...\n"
     ]
    }
   ],
   "source": [
    "from openai import OpenAI\n",
    "\n",
    "client = OpenAI(api_key=\"Hier API-Key einsetzen\")\n",
    "\n",
    "user_question = \"Wie warm ist die Jacke X-100?\"\n",
    "\n",
    "response = client.embeddings.create(\n",
    "    model=\"text-embedding-3-large\",\n",
    "    input=[user_question]\n",
    ")\n",
    "\n",
    "embedding = response.data[0].embedding\n",
    "\n",
    "print(f\"Frage: {user_question}\")\n",
    "print(f\"Embedding-Vektor (erste 10 Werte): {embedding[:10]} ...\")\n"
   ]
  },
  {
   "cell_type": "code",
   "execution_count": null,
   "id": "7ec8bbb3-ed92-4594-b670-1bcf71e877ab",
   "metadata": {},
   "outputs": [],
   "source": []
  }
 ],
 "metadata": {
  "kernelspec": {
   "display_name": "Python 3 (ipykernel)",
   "language": "python",
   "name": "python3"
  },
  "language_info": {
   "codemirror_mode": {
    "name": "ipython",
    "version": 3
   },
   "file_extension": ".py",
   "mimetype": "text/x-python",
   "name": "python",
   "nbconvert_exporter": "python",
   "pygments_lexer": "ipython3",
   "version": "3.12.7"
  }
 },
 "nbformat": 4,
 "nbformat_minor": 5
}
