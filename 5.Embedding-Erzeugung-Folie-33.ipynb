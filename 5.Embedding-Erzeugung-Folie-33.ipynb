{
 "cells": [
  {
   "cell_type": "code",
   "execution_count": 2,
   "id": "9bc06d84-4d4d-4c33-8b13-c07645a1d2b0",
   "metadata": {},
   "outputs": [
    {
     "name": "stdout",
     "output_type": "stream",
     "text": [
      "\n",
      "♦ Chunk 1:\n",
      "Text: Die X-100 Jacke ist wasserdicht, windabweisend und atmungsaktiv.\n",
      "Embedding-Vektor (erste 10 Werte): [0.004890752490609884, 0.02432597614824772, -0.011465968564152718, 0.038266364485025406, 0.008050573989748955, -0.004696168005466461, -0.03306195139884949, -0.01248826365917921, 0.0186452679336071, -0.014149493537843227] ...\n",
      "\n",
      "♦ Chunk 2:\n",
      "Text: Sie eignet sich für Temperaturen bis -15 °C. Kritische Nähte sind verschweißt.\n",
      "Embedding-Vektor (erste 10 Werte): [-0.01890150085091591, -0.0010346511844545603, -0.0003333745989948511, 0.028289828449487686, 0.035206228494644165, -0.0007951052393764257, -0.03350834175944328, 0.007559351623058319, -0.012390844523906708, 0.019213613122701645] ...\n",
      "\n",
      "♦ Chunk 3:\n",
      "Text: Die Jacke ist in drei Farben verfügbar: Blau, Rot und Schwarz.\n",
      "Embedding-Vektor (erste 10 Werte): [-0.0012824578443542123, -0.027632853016257286, -0.019202901050448418, 0.038671500980854034, -0.019118359312415123, -0.02045893855392933, 0.007850241847336292, 0.02256038784980774, 0.01737922802567482, 0.006823671981692314] ...\n",
      "\n",
      "♦ Chunk 4:\n",
      "Text: Weitere Vorteile: Sie ist leicht zu reinigen. Außerdem besitzt sie reflektierende Elemente.\n",
      "Embedding-Vektor (erste 10 Werte): [0.011158700101077557, -0.015872668474912643, -0.004861870314925909, 0.01375799160450697, 0.02832157537341118, -0.007860810495913029, -0.030839048326015472, 0.0013846103101968765, 0.002111530862748623, -0.01938454434275627] ...\n"
     ]
    }
   ],
   "source": [
    "from openai import OpenAI\n",
    "\n",
    "client = OpenAI(\n",
    "    api_key=\"Hier OpenAI-Key einsetzen\"\n",
    ")\n",
    "\n",
    "texts = [\n",
    "    \"Die X-100 Jacke ist wasserdicht, windabweisend und atmungsaktiv.\",\n",
    "    \"Sie eignet sich für Temperaturen bis -15 °C. Kritische Nähte sind verschweißt.\",\n",
    "    \"Die Jacke ist in drei Farben verfügbar: Blau, Rot und Schwarz.\",\n",
    "    \"Weitere Vorteile: Sie ist leicht zu reinigen. Außerdem besitzt sie reflektierende Elemente.\"\n",
    "]\n",
    "\n",
    "response = client.embeddings.create(\n",
    "    model=\"text-embedding-3-large\",\n",
    "    input=texts\n",
    ")\n",
    "\n",
    "embeddings = [d.embedding for d in response.data]\n",
    "\n",
    "for i, vec in enumerate(embeddings, 1):\n",
    "    print(f\"\\n♦ Chunk {i}:\")\n",
    "    print(f\"Text: {texts[i-1]}\")\n",
    "    print(f\"Embedding-Vektor (erste 10 Werte): {vec[:10]} ...\")\n"
   ]
  },
  {
   "cell_type": "code",
   "execution_count": null,
   "id": "7ec8bbb3-ed92-4594-b670-1bcf71e877ab",
   "metadata": {},
   "outputs": [],
   "source": []
  }
 ],
 "metadata": {
  "kernelspec": {
   "display_name": "Python 3 (ipykernel)",
   "language": "python",
   "name": "python3"
  },
  "language_info": {
   "codemirror_mode": {
    "name": "ipython",
    "version": 3
   },
   "file_extension": ".py",
   "mimetype": "text/x-python",
   "name": "python",
   "nbconvert_exporter": "python",
   "pygments_lexer": "ipython3",
   "version": "3.12.7"
  }
 },
 "nbformat": 4,
 "nbformat_minor": 5
}
