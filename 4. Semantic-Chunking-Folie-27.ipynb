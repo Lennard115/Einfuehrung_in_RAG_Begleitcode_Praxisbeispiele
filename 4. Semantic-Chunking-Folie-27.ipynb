{
 "cells": [
  {
   "cell_type": "code",
   "execution_count": 2,
   "id": "9bc06d84-4d4d-4c33-8b13-c07645a1d2b0",
   "metadata": {},
   "outputs": [
    {
     "name": "stdout",
     "output_type": "stream",
     "text": [
      "Chunk 1: Die X-100 Jacke ist wasserdicht, windabweisend und atmungsaktiv.\n",
      "Chunk 2: Sie eignet sich für Temperaturen bis -15 °C.\n",
      "Chunk 3: Kritische Nähte sind verschweißt.\n",
      "Chunk 4: Die Jacke ist in drei Farben verfügbar: Blau, Rot und Schwarz.\n"
     ]
    }
   ],
   "source": [
    "import re\n",
    "\n",
    "# Beispieltext\n",
    "text = (\"Die X-100 Jacke ist wasserdicht, windabweisend und atmungsaktiv. \"\n",
    "        \"Sie eignet sich für Temperaturen bis -15 °C. \"\n",
    "        \"Kritische Nähte sind verschweißt. \"\n",
    "        \"Die Jacke ist in drei Farben verfügbar: Blau, Rot und Schwarz.\")\n",
    "\n",
    "# Satzweises Chunking mittels RegEx\n",
    "chunks = re.split(r'(?<=[.!?])\\s+', text)\n",
    "\n",
    "# Ausgabe\n",
    "for i, chunk in enumerate(chunks, 1):\n",
    "    print(f\"Chunk {i}: {chunk}\")\n"
   ]
  },
  {
   "cell_type": "code",
   "execution_count": null,
   "id": "7ec8bbb3-ed92-4594-b670-1bcf71e877ab",
   "metadata": {},
   "outputs": [],
   "source": []
  }
 ],
 "metadata": {
  "kernelspec": {
   "display_name": "Python 3 (ipykernel)",
   "language": "python",
   "name": "python3"
  },
  "language_info": {
   "codemirror_mode": {
    "name": "ipython",
    "version": 3
   },
   "file_extension": ".py",
   "mimetype": "text/x-python",
   "name": "python",
   "nbconvert_exporter": "python",
   "pygments_lexer": "ipython3",
   "version": "3.12.7"
  }
 },
 "nbformat": 4,
 "nbformat_minor": 5
}
