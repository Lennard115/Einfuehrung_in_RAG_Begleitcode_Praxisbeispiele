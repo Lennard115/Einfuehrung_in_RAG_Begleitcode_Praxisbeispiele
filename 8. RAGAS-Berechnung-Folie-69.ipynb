{
 "cells": [
  {
   "cell_type": "code",
   "execution_count": null,
   "id": "607e38d9-4014-4f07-b06d-9e00ec8d2283",
   "metadata": {},
   "outputs": [
    {
     "name": "stdout",
     "output_type": "stream",
     "text": [
      "{'fc': 1.0, 'cr': 0.0, 'rr': 0.9565444040891506, 'fh': 0.0}\n"
     ]
    }
   ],
   "source": [
    "import os, asyncio\n",
    "os.environ[\"OPENAI_API_KEY\"] = \"Hier API-Key einsetzen\"\n",
    "\n",
    "from ragas.llms import llm_factory\n",
    "from ragas.embeddings import LangchainEmbeddingsWrapper\n",
    "from langchain.embeddings import OpenAIEmbeddings\n",
    "from ragas.dataset_schema import SingleTurnSample\n",
    "\n",
    "# Monkey-Patch (nur für RAGAS 0.2.x)\n",
    "import ragas.metrics._factual_correctness as _fc\n",
    "import ragas.metrics._context_recall      as _cr\n",
    "import ragas.metrics._answer_relevance    as _rr\n",
    "import ragas.metrics._faithfulness        as _fh\n",
    "for m in (_fc, _cr, _rr, _fh):\n",
    "    m.SingleTurnSample = SingleTurnSample\n",
    "\n",
    "from ragas.metrics import (\n",
    "    FactualCorrectness as FC,\n",
    "    ContextRecall     as CR,\n",
    "    ResponseRelevancy as RR,\n",
    "    Faithfulness      as FH,\n",
    ")\n",
    "\n",
    "# 1) LLM & Embeddings\n",
    "llm        = llm_factory(\"gpt-4\")\n",
    "emb_wrapper = LangchainEmbeddingsWrapper(OpenAIEmbeddings())\n",
    "\n",
    "# 2) Dein Sample\n",
    "s = SingleTurnSample(\n",
    "    user_input=\"Wie warm ist die Jacke X-100?\",\n",
    "    response=\"Die Jacke X-100 eignet sich für Temperaturen bis -15 °C.\",\n",
    "    reference=\"Die Jacke X-100 hält Kälte bis −15 °C zuverlässig ab.\",\n",
    "    retrieved_contexts=[\"Die X-100 Jacke ist wasserdicht, windabweisend und atmungsaktiv.\"]\n",
    ")\n",
    "\n",
    "# 3) Parallel alle vier Scores (jetzt mit Embedding für RR)\n",
    "fc, cr, rr, fh = asyncio.run(asyncio.gather(\n",
    "    FC(llm=llm).single_turn_ascore(s),\n",
    "    CR(llm=llm).single_turn_ascore(s),\n",
    "    RR(llm=llm, embeddings=emb_wrapper).single_turn_ascore(s),  # ← hier\n",
    "    FH(llm=llm).single_turn_ascore(s),\n",
    "))\n",
    "\n",
    "print(dict(fc=fc, cr=cr, rr=rr, fh=fh))\n"
   ]
  },
  {
   "cell_type": "code",
   "execution_count": null,
   "id": "d5866441-a6ee-43f7-a48d-913ca8d83baa",
   "metadata": {},
   "outputs": [],
   "source": []
  }
 ],
 "metadata": {
  "kernelspec": {
   "display_name": "Python 3 (ipykernel)",
   "language": "python",
   "name": "python3"
  },
  "language_info": {
   "codemirror_mode": {
    "name": "ipython",
    "version": 3
   },
   "file_extension": ".py",
   "mimetype": "text/x-python",
   "name": "python",
   "nbconvert_exporter": "python",
   "pygments_lexer": "ipython3",
   "version": "3.12.7"
  }
 },
 "nbformat": 4,
 "nbformat_minor": 5
}
