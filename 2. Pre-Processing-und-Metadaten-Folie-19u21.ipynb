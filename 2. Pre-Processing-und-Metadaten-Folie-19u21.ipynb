{
 "cells": [
  {
   "cell_type": "code",
   "execution_count": 4,
   "id": "9bc06d84-4d4d-4c33-8b13-c07645a1d2b0",
   "metadata": {},
   "outputs": [
    {
     "name": "stdout",
     "output_type": "stream",
     "text": [
      ">>> Fließtext:\n",
      " Produkt X-100\n",
      "Dieses Produkt ist leicht, robust und wetterfest.\n",
      "Ideal für den Einsatz im Freien. \n",
      "\n",
      ">>> Metadaten:\n",
      " {'quelle': '1. HTML-Seite-zu-Folie-17.html', 'titel': 'Produkt X-100', 'dokumenttyp': 'HTML', 'erstellt_am': '2025-06-29T09:32:28.301169'}\n"
     ]
    }
   ],
   "source": [
    "from bs4 import BeautifulSoup\n",
    "from datetime import datetime\n",
    "import os\n",
    "\n",
    "# Dateipfad definieren\n",
    "file_path = \"1. HTML-Seite-zu-Folie-17.html\"\n",
    "\n",
    "# HTML-Datei einlesen\n",
    "with open(file_path, \"r\", encoding=\"utf-8\") as f:\n",
    "    html = f.read()\n",
    "\n",
    "# HTML parsen\n",
    "soup = BeautifulSoup(html, \"html.parser\")\n",
    "\n",
    "# Störende Bereiche entfernen\n",
    "for tag in soup.select(\"head, header, footer, .ad-banner\"):\n",
    "    tag.decompose()\n",
    "\n",
    "# Fließtext extrahieren\n",
    "text = soup.get_text(separator=\"\\n\", strip=True)\n",
    "\n",
    "# Metadaten erzeugen\n",
    "metadaten = {\n",
    "    \"quelle\": file_path,\n",
    "    \"titel\": soup.find(\"h1\").text if soup.find(\"h1\") else \"Unbekannt\",\n",
    "    \"dokumenttyp\": \"HTML\",\n",
    "    \"erstellt_am\": datetime.fromtimestamp(os.path.getmtime(file_path)).isoformat(),\n",
    "}\n",
    "\n",
    "# Ausgabe\n",
    "print(\">>> Fließtext:\\n\", text, \"\\n\")\n",
    "print(\">>> Metadaten:\\n\", metadaten)\n"
   ]
  },
  {
   "cell_type": "code",
   "execution_count": null,
   "id": "7ec8bbb3-ed92-4594-b670-1bcf71e877ab",
   "metadata": {},
   "outputs": [],
   "source": []
  }
 ],
 "metadata": {
  "kernelspec": {
   "display_name": "Python 3 (ipykernel)",
   "language": "python",
   "name": "python3"
  },
  "language_info": {
   "codemirror_mode": {
    "name": "ipython",
    "version": 3
   },
   "file_extension": ".py",
   "mimetype": "text/x-python",
   "name": "python",
   "nbconvert_exporter": "python",
   "pygments_lexer": "ipython3",
   "version": "3.12.7"
  }
 },
 "nbformat": 4,
 "nbformat_minor": 5
}
